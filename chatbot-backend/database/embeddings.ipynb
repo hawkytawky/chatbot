{
 "cells": [
  {
   "attachments": {},
   "cell_type": "markdown",
   "metadata": {},
   "source": [
    "## Load embeddings to database"
   ]
  },
  {
   "attachments": {},
   "cell_type": "markdown",
   "metadata": {},
   "source": [
    "### IMPORT"
   ]
  },
  {
   "cell_type": "code",
   "execution_count": 1,
   "metadata": {},
   "outputs": [
    {
     "name": "stderr",
     "output_type": "stream",
     "text": [
      "/var/folders/52/75xn52vx157bqjbvmj4wwd9c0000gn/T/ipykernel_80208/3876942018.py:5: DeprecationWarning: \n",
      "Pyarrow will become a required dependency of pandas in the next major release of pandas (pandas 3.0),\n",
      "(to allow more performant data types, such as the Arrow string type, and better interoperability with other libraries)\n",
      "but was not found to be installed on your system.\n",
      "If this would cause problems for you,\n",
      "please provide us feedback at https://github.com/pandas-dev/pandas/issues/54466\n",
      "        \n",
      "  import pandas as pd\n"
     ]
    }
   ],
   "source": [
    "import openai\n",
    "import PyPDF2\n",
    "import requests\n",
    "from io import StringIO\n",
    "import pandas as pd\n",
    "from supabase import create_client, Client\n",
    "import re\n",
    "import os\n",
    "import json\n",
    "import asyncio\n",
    "from langchain.text_splitter import RecursiveCharacterTextSplitter\n",
    "\n",
    "from functions import extract_and_chunk_pdf, get_embeddings, match_documents, upload_to_database"
   ]
  },
  {
   "attachments": {},
   "cell_type": "markdown",
   "metadata": {},
   "source": [
    "#### OPENAI KEY"
   ]
  },
  {
   "cell_type": "code",
   "execution_count": 2,
   "metadata": {},
   "outputs": [],
   "source": [
    "# Define path\n",
    "path_to_key = \"../secrets/openai_key.json\"\n",
    "\n",
    "# Get key\n",
    "with open(path_to_key, \"r\") as f:\n",
    "    openai_secrets = json.load(f)\n",
    "    f.close()\n",
    "\n",
    "# Define key\n",
    "openai.api_key = openai_secrets['openai_api_key']"
   ]
  },
  {
   "attachments": {},
   "cell_type": "markdown",
   "metadata": {},
   "source": [
    "#### SUPABASE KEY"
   ]
  },
  {
   "cell_type": "code",
   "execution_count": 3,
   "metadata": {},
   "outputs": [],
   "source": [
    "## IMPORT superbase keys \n",
    "# Define path\n",
    "path_to_sup_key = \"../secrets/supabase_key.json\"\n",
    "\n",
    "with open(path_to_sup_key, 'r') as file:\n",
    "    config = json.load(file)\n",
    "\n",
    "supabase_url = config[\"project_url\"]\n",
    "# supabase_key = config[\"api_key\"]\n",
    "supabase_service_key = config[\"service_role_key\"]\n",
    "\n",
    "supabase: Client = create_client(supabase_url, supabase_service_key)"
   ]
  },
  {
   "attachments": {},
   "cell_type": "markdown",
   "metadata": {},
   "source": [
    "#### GET SECTIONS FROM PDF"
   ]
  },
  {
   "cell_type": "code",
   "execution_count": null,
   "metadata": {},
   "outputs": [],
   "source": [
    "# Path for text data\n",
    "path = './chatbot-text.pdf'\n",
    "chunks = extract_and_chunk_pdf(path, 1500, 300)"
   ]
  },
  {
   "cell_type": "code",
   "execution_count": null,
   "metadata": {},
   "outputs": [],
   "source": [
    "get_embeddings(chunks[0])"
   ]
  },
  {
   "attachments": {},
   "cell_type": "markdown",
   "metadata": {},
   "source": [
    "#### UPLOAD IN SUPABASE DB"
   ]
  },
  {
   "cell_type": "code",
   "execution_count": 5,
   "metadata": {},
   "outputs": [
    {
     "name": "stderr",
     "output_type": "stream",
     "text": [
      "2024-02-07 09:10:22,882:INFO - HTTP Request: POST https://api.openai.com/v1/embeddings \"HTTP/1.1 200 OK\"\n",
      "2024-02-07 09:10:23,486:INFO - HTTP Request: POST https://anltjabuirxieouelkhe.supabase.co/rest/v1/documents2 \"HTTP/1.1 201 Created\"\n"
     ]
    },
    {
     "name": "stdout",
     "output_type": "stream",
     "text": [
      "Successfully uploaded chunk 0\n"
     ]
    },
    {
     "name": "stderr",
     "output_type": "stream",
     "text": [
      "2024-02-07 09:10:24,965:INFO - HTTP Request: POST https://api.openai.com/v1/embeddings \"HTTP/1.1 200 OK\"\n",
      "2024-02-07 09:10:25,143:INFO - HTTP Request: POST https://anltjabuirxieouelkhe.supabase.co/rest/v1/documents2 \"HTTP/1.1 201 Created\"\n"
     ]
    },
    {
     "name": "stdout",
     "output_type": "stream",
     "text": [
      "Successfully uploaded chunk 1\n"
     ]
    },
    {
     "name": "stderr",
     "output_type": "stream",
     "text": [
      "2024-02-07 09:10:26,992:INFO - HTTP Request: POST https://api.openai.com/v1/embeddings \"HTTP/1.1 200 OK\"\n",
      "2024-02-07 09:10:27,426:INFO - HTTP Request: POST https://anltjabuirxieouelkhe.supabase.co/rest/v1/documents2 \"HTTP/1.1 201 Created\"\n"
     ]
    },
    {
     "name": "stdout",
     "output_type": "stream",
     "text": [
      "Successfully uploaded chunk 2\n"
     ]
    },
    {
     "name": "stderr",
     "output_type": "stream",
     "text": [
      "2024-02-07 09:10:27,822:INFO - HTTP Request: POST https://api.openai.com/v1/embeddings \"HTTP/1.1 200 OK\"\n",
      "2024-02-07 09:10:28,262:INFO - HTTP Request: POST https://anltjabuirxieouelkhe.supabase.co/rest/v1/documents2 \"HTTP/1.1 201 Created\"\n"
     ]
    },
    {
     "name": "stdout",
     "output_type": "stream",
     "text": [
      "Successfully uploaded chunk 3\n"
     ]
    },
    {
     "name": "stderr",
     "output_type": "stream",
     "text": [
      "2024-02-07 09:10:31,592:INFO - HTTP Request: POST https://api.openai.com/v1/embeddings \"HTTP/1.1 200 OK\"\n",
      "2024-02-07 09:10:31,842:INFO - HTTP Request: POST https://anltjabuirxieouelkhe.supabase.co/rest/v1/documents2 \"HTTP/1.1 201 Created\"\n"
     ]
    },
    {
     "name": "stdout",
     "output_type": "stream",
     "text": [
      "Successfully uploaded chunk 4\n"
     ]
    },
    {
     "name": "stderr",
     "output_type": "stream",
     "text": [
      "2024-02-07 09:10:32,272:INFO - HTTP Request: POST https://api.openai.com/v1/embeddings \"HTTP/1.1 200 OK\"\n",
      "2024-02-07 09:10:32,916:INFO - HTTP Request: POST https://anltjabuirxieouelkhe.supabase.co/rest/v1/documents2 \"HTTP/1.1 201 Created\"\n"
     ]
    },
    {
     "name": "stdout",
     "output_type": "stream",
     "text": [
      "Successfully uploaded chunk 5\n"
     ]
    },
    {
     "name": "stderr",
     "output_type": "stream",
     "text": [
      "2024-02-07 09:10:33,825:INFO - HTTP Request: POST https://api.openai.com/v1/embeddings \"HTTP/1.1 200 OK\"\n",
      "2024-02-07 09:10:34,395:INFO - HTTP Request: POST https://anltjabuirxieouelkhe.supabase.co/rest/v1/documents2 \"HTTP/1.1 201 Created\"\n"
     ]
    },
    {
     "name": "stdout",
     "output_type": "stream",
     "text": [
      "Successfully uploaded chunk 6\n"
     ]
    },
    {
     "name": "stderr",
     "output_type": "stream",
     "text": [
      "2024-02-07 09:10:34,895:INFO - HTTP Request: POST https://api.openai.com/v1/embeddings \"HTTP/1.1 200 OK\"\n",
      "2024-02-07 09:10:35,241:INFO - HTTP Request: POST https://anltjabuirxieouelkhe.supabase.co/rest/v1/documents2 \"HTTP/1.1 201 Created\"\n"
     ]
    },
    {
     "name": "stdout",
     "output_type": "stream",
     "text": [
      "Successfully uploaded chunk 7\n"
     ]
    },
    {
     "name": "stderr",
     "output_type": "stream",
     "text": [
      "2024-02-07 09:10:35,657:INFO - HTTP Request: POST https://api.openai.com/v1/embeddings \"HTTP/1.1 200 OK\"\n",
      "2024-02-07 09:10:35,832:INFO - HTTP Request: POST https://anltjabuirxieouelkhe.supabase.co/rest/v1/documents2 \"HTTP/1.1 201 Created\"\n"
     ]
    },
    {
     "name": "stdout",
     "output_type": "stream",
     "text": [
      "Successfully uploaded chunk 8\n"
     ]
    },
    {
     "name": "stderr",
     "output_type": "stream",
     "text": [
      "2024-02-07 09:10:36,183:INFO - HTTP Request: POST https://api.openai.com/v1/embeddings \"HTTP/1.1 200 OK\"\n",
      "2024-02-07 09:10:36,366:INFO - HTTP Request: POST https://anltjabuirxieouelkhe.supabase.co/rest/v1/documents2 \"HTTP/1.1 201 Created\"\n"
     ]
    },
    {
     "name": "stdout",
     "output_type": "stream",
     "text": [
      "Successfully uploaded chunk 9\n"
     ]
    },
    {
     "name": "stderr",
     "output_type": "stream",
     "text": [
      "2024-02-07 09:10:36,645:INFO - HTTP Request: POST https://api.openai.com/v1/embeddings \"HTTP/1.1 200 OK\"\n",
      "2024-02-07 09:10:37,196:INFO - HTTP Request: POST https://anltjabuirxieouelkhe.supabase.co/rest/v1/documents2 \"HTTP/1.1 201 Created\"\n"
     ]
    },
    {
     "name": "stdout",
     "output_type": "stream",
     "text": [
      "Successfully uploaded chunk 10\n"
     ]
    },
    {
     "name": "stderr",
     "output_type": "stream",
     "text": [
      "2024-02-07 09:10:37,747:INFO - HTTP Request: POST https://api.openai.com/v1/embeddings \"HTTP/1.1 200 OK\"\n",
      "2024-02-07 09:10:37,938:INFO - HTTP Request: POST https://anltjabuirxieouelkhe.supabase.co/rest/v1/documents2 \"HTTP/1.1 201 Created\"\n"
     ]
    },
    {
     "name": "stdout",
     "output_type": "stream",
     "text": [
      "Successfully uploaded chunk 11\n"
     ]
    },
    {
     "name": "stderr",
     "output_type": "stream",
     "text": [
      "2024-02-07 09:10:38,245:INFO - HTTP Request: POST https://api.openai.com/v1/embeddings \"HTTP/1.1 200 OK\"\n",
      "2024-02-07 09:10:38,450:INFO - HTTP Request: POST https://anltjabuirxieouelkhe.supabase.co/rest/v1/documents2 \"HTTP/1.1 201 Created\"\n"
     ]
    },
    {
     "name": "stdout",
     "output_type": "stream",
     "text": [
      "Successfully uploaded chunk 12\n"
     ]
    },
    {
     "name": "stderr",
     "output_type": "stream",
     "text": [
      "2024-02-07 09:10:38,740:INFO - HTTP Request: POST https://api.openai.com/v1/embeddings \"HTTP/1.1 200 OK\"\n",
      "2024-02-07 09:10:38,949:INFO - HTTP Request: POST https://anltjabuirxieouelkhe.supabase.co/rest/v1/documents2 \"HTTP/1.1 201 Created\"\n"
     ]
    },
    {
     "name": "stdout",
     "output_type": "stream",
     "text": [
      "Successfully uploaded chunk 13\n"
     ]
    },
    {
     "name": "stderr",
     "output_type": "stream",
     "text": [
      "2024-02-07 09:10:39,316:INFO - HTTP Request: POST https://api.openai.com/v1/embeddings \"HTTP/1.1 200 OK\"\n",
      "2024-02-07 09:10:39,508:INFO - HTTP Request: POST https://anltjabuirxieouelkhe.supabase.co/rest/v1/documents2 \"HTTP/1.1 201 Created\"\n"
     ]
    },
    {
     "name": "stdout",
     "output_type": "stream",
     "text": [
      "Successfully uploaded chunk 14\n"
     ]
    },
    {
     "name": "stderr",
     "output_type": "stream",
     "text": [
      "2024-02-07 09:10:42,147:INFO - HTTP Request: POST https://api.openai.com/v1/embeddings \"HTTP/1.1 200 OK\"\n",
      "2024-02-07 09:10:42,371:INFO - HTTP Request: POST https://anltjabuirxieouelkhe.supabase.co/rest/v1/documents2 \"HTTP/1.1 201 Created\"\n"
     ]
    },
    {
     "name": "stdout",
     "output_type": "stream",
     "text": [
      "Successfully uploaded chunk 15\n"
     ]
    },
    {
     "name": "stderr",
     "output_type": "stream",
     "text": [
      "2024-02-07 09:10:43,217:INFO - HTTP Request: POST https://api.openai.com/v1/embeddings \"HTTP/1.1 200 OK\"\n",
      "2024-02-07 09:10:43,391:INFO - HTTP Request: POST https://anltjabuirxieouelkhe.supabase.co/rest/v1/documents2 \"HTTP/1.1 201 Created\"\n"
     ]
    },
    {
     "name": "stdout",
     "output_type": "stream",
     "text": [
      "Successfully uploaded chunk 16\n"
     ]
    },
    {
     "name": "stderr",
     "output_type": "stream",
     "text": [
      "2024-02-07 09:10:46,554:INFO - HTTP Request: POST https://api.openai.com/v1/embeddings \"HTTP/1.1 200 OK\"\n",
      "2024-02-07 09:10:46,992:INFO - HTTP Request: POST https://anltjabuirxieouelkhe.supabase.co/rest/v1/documents2 \"HTTP/1.1 201 Created\"\n"
     ]
    },
    {
     "name": "stdout",
     "output_type": "stream",
     "text": [
      "Successfully uploaded chunk 17\n"
     ]
    },
    {
     "name": "stderr",
     "output_type": "stream",
     "text": [
      "2024-02-07 09:10:47,666:INFO - HTTP Request: POST https://api.openai.com/v1/embeddings \"HTTP/1.1 200 OK\"\n",
      "2024-02-07 09:10:48,314:INFO - HTTP Request: POST https://anltjabuirxieouelkhe.supabase.co/rest/v1/documents2 \"HTTP/1.1 201 Created\"\n"
     ]
    },
    {
     "name": "stdout",
     "output_type": "stream",
     "text": [
      "Successfully uploaded chunk 18\n"
     ]
    },
    {
     "name": "stderr",
     "output_type": "stream",
     "text": [
      "2024-02-07 09:10:49,574:INFO - HTTP Request: POST https://api.openai.com/v1/embeddings \"HTTP/1.1 200 OK\"\n",
      "2024-02-07 09:10:50,523:INFO - HTTP Request: POST https://anltjabuirxieouelkhe.supabase.co/rest/v1/documents2 \"HTTP/1.1 201 Created\"\n"
     ]
    },
    {
     "name": "stdout",
     "output_type": "stream",
     "text": [
      "Successfully uploaded chunk 19\n"
     ]
    },
    {
     "name": "stderr",
     "output_type": "stream",
     "text": [
      "2024-02-07 09:10:53,022:INFO - HTTP Request: POST https://api.openai.com/v1/embeddings \"HTTP/1.1 200 OK\"\n",
      "2024-02-07 09:10:53,186:INFO - HTTP Request: POST https://anltjabuirxieouelkhe.supabase.co/rest/v1/documents2 \"HTTP/1.1 201 Created\"\n"
     ]
    },
    {
     "name": "stdout",
     "output_type": "stream",
     "text": [
      "Successfully uploaded chunk 20\n"
     ]
    },
    {
     "name": "stderr",
     "output_type": "stream",
     "text": [
      "2024-02-07 09:10:53,939:INFO - HTTP Request: POST https://api.openai.com/v1/embeddings \"HTTP/1.1 200 OK\"\n",
      "2024-02-07 09:10:54,111:INFO - HTTP Request: POST https://anltjabuirxieouelkhe.supabase.co/rest/v1/documents2 \"HTTP/1.1 201 Created\"\n"
     ]
    },
    {
     "name": "stdout",
     "output_type": "stream",
     "text": [
      "Successfully uploaded chunk 21\n"
     ]
    },
    {
     "name": "stderr",
     "output_type": "stream",
     "text": [
      "2024-02-07 09:10:54,571:INFO - HTTP Request: POST https://api.openai.com/v1/embeddings \"HTTP/1.1 200 OK\"\n",
      "2024-02-07 09:10:54,799:INFO - HTTP Request: POST https://anltjabuirxieouelkhe.supabase.co/rest/v1/documents2 \"HTTP/1.1 201 Created\"\n"
     ]
    },
    {
     "name": "stdout",
     "output_type": "stream",
     "text": [
      "Successfully uploaded chunk 22\n"
     ]
    },
    {
     "name": "stderr",
     "output_type": "stream",
     "text": [
      "2024-02-07 09:10:55,562:INFO - HTTP Request: POST https://api.openai.com/v1/embeddings \"HTTP/1.1 200 OK\"\n",
      "2024-02-07 09:10:55,699:INFO - HTTP Request: POST https://anltjabuirxieouelkhe.supabase.co/rest/v1/documents2 \"HTTP/1.1 201 Created\"\n"
     ]
    },
    {
     "name": "stdout",
     "output_type": "stream",
     "text": [
      "Successfully uploaded chunk 23\n"
     ]
    },
    {
     "name": "stderr",
     "output_type": "stream",
     "text": [
      "2024-02-07 09:10:56,409:INFO - HTTP Request: POST https://api.openai.com/v1/embeddings \"HTTP/1.1 200 OK\"\n",
      "2024-02-07 09:10:56,573:INFO - HTTP Request: POST https://anltjabuirxieouelkhe.supabase.co/rest/v1/documents2 \"HTTP/1.1 201 Created\"\n"
     ]
    },
    {
     "name": "stdout",
     "output_type": "stream",
     "text": [
      "Successfully uploaded chunk 24\n"
     ]
    },
    {
     "name": "stderr",
     "output_type": "stream",
     "text": [
      "2024-02-07 09:10:56,966:INFO - HTTP Request: POST https://api.openai.com/v1/embeddings \"HTTP/1.1 200 OK\"\n",
      "2024-02-07 09:10:57,183:INFO - HTTP Request: POST https://anltjabuirxieouelkhe.supabase.co/rest/v1/documents2 \"HTTP/1.1 201 Created\"\n"
     ]
    },
    {
     "name": "stdout",
     "output_type": "stream",
     "text": [
      "Successfully uploaded chunk 25\n"
     ]
    },
    {
     "name": "stderr",
     "output_type": "stream",
     "text": [
      "2024-02-07 09:10:57,522:INFO - HTTP Request: POST https://api.openai.com/v1/embeddings \"HTTP/1.1 200 OK\"\n",
      "2024-02-07 09:10:57,709:INFO - HTTP Request: POST https://anltjabuirxieouelkhe.supabase.co/rest/v1/documents2 \"HTTP/1.1 201 Created\"\n"
     ]
    },
    {
     "name": "stdout",
     "output_type": "stream",
     "text": [
      "Successfully uploaded chunk 26\n"
     ]
    },
    {
     "name": "stderr",
     "output_type": "stream",
     "text": [
      "2024-02-07 09:10:58,111:INFO - HTTP Request: POST https://api.openai.com/v1/embeddings \"HTTP/1.1 200 OK\"\n",
      "2024-02-07 09:10:58,277:INFO - HTTP Request: POST https://anltjabuirxieouelkhe.supabase.co/rest/v1/documents2 \"HTTP/1.1 201 Created\"\n"
     ]
    },
    {
     "name": "stdout",
     "output_type": "stream",
     "text": [
      "Successfully uploaded chunk 27\n"
     ]
    },
    {
     "name": "stderr",
     "output_type": "stream",
     "text": [
      "2024-02-07 09:10:58,680:INFO - HTTP Request: POST https://api.openai.com/v1/embeddings \"HTTP/1.1 200 OK\"\n",
      "2024-02-07 09:10:58,825:INFO - HTTP Request: POST https://anltjabuirxieouelkhe.supabase.co/rest/v1/documents2 \"HTTP/1.1 201 Created\"\n"
     ]
    },
    {
     "name": "stdout",
     "output_type": "stream",
     "text": [
      "Successfully uploaded chunk 28\n"
     ]
    },
    {
     "name": "stderr",
     "output_type": "stream",
     "text": [
      "2024-02-07 09:10:59,153:INFO - HTTP Request: POST https://api.openai.com/v1/embeddings \"HTTP/1.1 200 OK\"\n",
      "2024-02-07 09:10:59,314:INFO - HTTP Request: POST https://anltjabuirxieouelkhe.supabase.co/rest/v1/documents2 \"HTTP/1.1 201 Created\"\n"
     ]
    },
    {
     "name": "stdout",
     "output_type": "stream",
     "text": [
      "Successfully uploaded chunk 29\n"
     ]
    },
    {
     "name": "stderr",
     "output_type": "stream",
     "text": [
      "2024-02-07 09:10:59,596:INFO - HTTP Request: POST https://api.openai.com/v1/embeddings \"HTTP/1.1 200 OK\"\n",
      "2024-02-07 09:11:00,100:INFO - HTTP Request: POST https://anltjabuirxieouelkhe.supabase.co/rest/v1/documents2 \"HTTP/1.1 201 Created\"\n"
     ]
    },
    {
     "name": "stdout",
     "output_type": "stream",
     "text": [
      "Successfully uploaded chunk 30\n"
     ]
    }
   ],
   "source": [
    "path = './chatbot-text.pdf'\n",
    "upload_to_database(path, 1200, 200, supabase)"
   ]
  },
  {
   "attachments": {},
   "cell_type": "markdown",
   "metadata": {},
   "source": [
    "#### TEST"
   ]
  },
  {
   "cell_type": "code",
   "execution_count": 6,
   "metadata": {},
   "outputs": [
    {
     "name": "stderr",
     "output_type": "stream",
     "text": [
      "2024-02-07 09:14:29,984:INFO - HTTP Request: POST https://api.openai.com/v1/embeddings \"HTTP/1.1 500 Internal Server Error\"\n",
      "2024-02-07 09:14:29,986:INFO - Retrying request to /embeddings in 0.882481 seconds\n",
      "2024-02-07 09:14:31,181:INFO - HTTP Request: POST https://api.openai.com/v1/embeddings \"HTTP/1.1 200 OK\"\n"
     ]
    }
   ],
   "source": [
    "# Example question\n",
    "question = get_embeddings(\"In welchem Bereich machen Sie Ihren Master?\")"
   ]
  },
  {
   "cell_type": "code",
   "execution_count": 7,
   "metadata": {},
   "outputs": [
    {
     "name": "stderr",
     "output_type": "stream",
     "text": [
      "2024-02-07 09:14:37,366:INFO - HTTP Request: POST https://anltjabuirxieouelkhe.supabase.co/rest/v1/rpc/match_documents \"HTTP/1.1 200 OK\"\n"
     ]
    },
    {
     "name": "stdout",
     "output_type": "stream",
     "text": [
      "[{'id': 79, 'content': 'in fast allen Bereichen von Wirtschaft, Wissenschaft und Alltag eine enorme Bedeutung. Der Masterstudiengang Statistik macht Sie zum Profi im Umgang mit Statistiken jeder Art. Sie befassen sich mit den mathematischen Grundlagen und Methoden empirischer Forschung und lernen, wie man Statistiken erstellt und die Aussagen von Statistiken kritisch beurteilen kann. Die Themenbereiche des Studiums umfassen Wahrscheinlichkeitstheorie und mathematische Statistik, Spezialgebiete der Statistik, Gebiet der stochastischen Prozesse oder Zeitreihenanalyse. Der Masterstudiengang Statistik ist ein gemeinsamer Studiengang der Humboldt-Universität zu Berlin, der Freien Universität Berlin und der Technischen Universität Berlin. Master Overview: EDUCATION Humboldt University of Berlin – M.Sc. Statistics, Berlin (GER) • Current GPA: 1.9 (on a scale from 1.0 – 5.0) • Major subjects: Data Science & Machine Learning, Statistical Inference (October 2021 to August 2024) . Aktuelle Notenübersicht: Abschluss: [85] Master of Science Studiengang: [237] Statistik Fachkennzeichen: [H] Hauptfach PO-Version: 2016 Prf.- Nr. Prüfung Prf.- Form Prf.- Art Status Note LP AL Versuch Datum Semester 1 Statistik |', 'similarity': 0.814240899248297}]\n"
     ]
    }
   ],
   "source": [
    "# Ausführen der asynchronen Funktion\n",
    "result = await match_documents(question, 0.5, 1)\n",
    "print(result.data)"
   ]
  },
  {
   "cell_type": "code",
   "execution_count": 8,
   "metadata": {},
   "outputs": [
    {
     "data": {
      "text/plain": [
       "'in fast allen Bereichen von Wirtschaft, Wissenschaft und Alltag eine enorme Bedeutung. Der Masterstudiengang Statistik macht Sie zum Profi im Umgang mit Statistiken jeder Art. Sie befassen sich mit den mathematischen Grundlagen und Methoden empirischer Forschung und lernen, wie man Statistiken erstellt und die Aussagen von Statistiken kritisch beurteilen kann. Die Themenbereiche des Studiums umfassen Wahrscheinlichkeitstheorie und mathematische Statistik, Spezialgebiete der Statistik, Gebiet der stochastischen Prozesse oder Zeitreihenanalyse. Der Masterstudiengang Statistik ist ein gemeinsamer Studiengang der Humboldt-Universität zu Berlin, der Freien Universität Berlin und der Technischen Universität Berlin. Master Overview: EDUCATION Humboldt University of Berlin – M.Sc. Statistics, Berlin (GER) • Current GPA: 1.9 (on a scale from 1.0 – 5.0) • Major subjects: Data Science & Machine Learning, Statistical Inference (October 2021 to August 2024) . Aktuelle Notenübersicht: Abschluss: [85] Master of Science Studiengang: [237] Statistik Fachkennzeichen: [H] Hauptfach PO-Version: 2016 Prf.- Nr. Prüfung Prf.- Form Prf.- Art Status Note LP AL Versuch Datum Semester 1 Statistik |'"
      ]
     },
     "execution_count": 8,
     "metadata": {},
     "output_type": "execute_result"
    }
   ],
   "source": [
    "result.data[0]['content']"
   ]
  },
  {
   "cell_type": "code",
   "execution_count": null,
   "metadata": {},
   "outputs": [],
   "source": []
  }
 ],
 "metadata": {
  "kernelspec": {
   "display_name": "chatbot_env",
   "language": "python",
   "name": "chatbot_env"
  },
  "language_info": {
   "codemirror_mode": {
    "name": "ipython",
    "version": 3
   },
   "file_extension": ".py",
   "mimetype": "text/x-python",
   "name": "python",
   "nbconvert_exporter": "python",
   "pygments_lexer": "ipython3",
   "version": "3.10.5"
  }
 },
 "nbformat": 4,
 "nbformat_minor": 2
}
